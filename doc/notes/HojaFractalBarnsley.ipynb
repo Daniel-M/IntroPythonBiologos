{
 "cells": [
  {
   "cell_type": "markdown",
   "metadata": {},
   "source": [
    "# Sistema iterado : Hoja de Barnsley (*Barnsley's fern*)\n",
    "\n",
    "Un sistema iterado muy famoso que posee dimensión fractal es la *hoja de Barnsley*. La teoría matemática subyacente esta relacionada con las transformaciones conformes, y mediante la selección de diferentes conjuntos de parámetros de acuerdo a un conjunto de probabilidades es posible obtener una hoja fractal\n",
    "La transformación en cuestión es de la forma\n",
    "\n",
    "$$ \\left(x_{n+1},y_{n+1}\\right) = f(x_{n},y_{n}) $$\n",
    "\n",
    "Donde\n",
    "\n",
    "$$f(x_{n},y_{n}) = \\begin{bmatrix}a & b \\\\ c & d \\end{bmatrix} \\begin{bmatrix} x_{n} \\\\ y_{n} \\end{bmatrix} + \\begin{bmatrix} e \\\\ f \\end{bmatrix}$$\n",
    "\n",
    "Que es equivalente a tener el conjunto de ecuaciones\n",
    "\n",
    "$$\n",
    "\\begin{eqnarray}\n",
    "x_{n+1} &=& a\\,x_{n} + b\\,y_{n} + e \\\\\n",
    "y_{n+1} &=& c\\,x_{n} + d\\,y_{n} + f\n",
    "\\end{eqnarray}\n",
    "$$\n",
    "\n",
    "Esto se conoce como un sistema iterado, pues cada pareja de puntos $(x_{n+1},y_{n+1})$ de la secuencia, depende de los puntos precedentes $(x_{n},y_{n})$.\n",
    "\n",
    "Utilizando el conjunto de transformaciones,\n",
    "\n",
    "$$\n",
    "\\begin{eqnarray}\n",
    "f_{1}(x,y) &=& \\begin{bmatrix} \\ 0.00 & \\ 0.00 \\ \\\\ 0.00 & \\ 0.27 \\end{bmatrix} \\begin{bmatrix} \\ x \\\\ y \\end{bmatrix} + \\begin{bmatrix} \\ 0.50 \\\\ 0.00 \\end{bmatrix}\\\\\n",
    "f_{2}(x,y) &=& \\begin{bmatrix} \\ -0.139 & \\ 0.263 \\ \\\\ 0.246 & \\ 0.224 \\end{bmatrix} \\begin{bmatrix} \\ x \\\\ y \\end{bmatrix} + \\begin{bmatrix} \\ 0.57 \\\\ -0.036 \\end{bmatrix}\\\\\n",
    "f_{3}(x,y) &=& \\begin{bmatrix} \\ 0.17 & \\ -0.2150 \\ \\\\ 0.2220 & \\ 0.160 \\end{bmatrix} \\begin{bmatrix} \\ x \\\\ y \\end{bmatrix} + \\begin{bmatrix} \\ 0.408 \\\\ 0.0893 \\end{bmatrix}\\\\\n",
    "f_{4}(x,y) &=& \\begin{bmatrix} \\ 0.7810 & \\ 0.0340 \\ \\\\ -0.0320 & \\ 0.7390 \\end{bmatrix} \\begin{bmatrix} \\ x \\\\ y \\end{bmatrix} + \\begin{bmatrix} \\ 0.1075 \\\\ 0.27 \\end{bmatrix} \n",
    "\\end{eqnarray}\n",
    "$$\n",
    "\n",
    "Eligiendo una función $f_{i}(x,y)$ de acuerdo a una distribución de probabilidad es posible obtener una secuencia de $N$ parejas de puntos\n",
    "\n",
    "$$\\left\\{ (x_{i},y_{i}) \\right\\}_{i=0}^{N}$$\n",
    "\n",
    "Los cuales podemos graficar obteniendo una hoja fractal.  \n",
    "El código siguiente genera dicha hoja utilizando la transformación sugerida, sin embargo, es posible utilizar otro conjunto de parametros que genere una hoja diferente"
   ]
  },
  {
   "cell_type": "code",
   "execution_count": 3,
   "metadata": {
    "collapsed": true
   },
   "outputs": [],
   "source": [
    "import random\n",
    "\n",
    "# Esta función se encarga de hacer las iteraciones\n",
    "def iterar(coordenadas,parametros_A,parametros_b):\n",
    "    resultado=[0,0]\n",
    "    for i in range(0,len(coordenadas)):\n",
    "        resultado[i] += parametros_b[i]\n",
    "        for j in range(0,len(parametros_A[i])):\n",
    "            resultado[i]+=parametros_A[i][j]*coordenadas[j]\n",
    "    return resultado\n",
    "\n",
    "# Esta función se encarga de cambiar la matriz de la transformación de Barnsley\n",
    "def variarParametros():\n",
    "    parametros_b = [0.0,0.0]\n",
    "    matriz_resultado  = [[0,0],[0,0]];\n",
    "    rand = random.random()\n",
    "    if (rand < 0.02):\n",
    "        matriz_resultado[0][0] = 0\n",
    "        matriz_resultado[0][1] = 0\n",
    "        matriz_resultado[1][0] = 0\n",
    "        matriz_resultado[1][1] = 0.27\n",
    "        parametros_b[0] = 0.5\n",
    "        parametros_b[1] = 0\n",
    "        return matriz_resultado, parametros_b\n",
    "    if  ((0.02 <= rand) and (rand <= 0.17)):\n",
    "        matriz_resultado[0][0] = -0.139\n",
    "        matriz_resultado[0][1] = 0.263\n",
    "        matriz_resultado[1][0] = 0.246\n",
    "        matriz_resultado[1][1] = 0.224\n",
    "        parametros_b[0] = 0.57\n",
    "        parametros_b[1] = -0.036\n",
    "        return matriz_resultado, parametros_b\n",
    "    if  ((0.17 < rand) and (rand <= 0.3)):\n",
    "        matriz_resultado[0][0] = 0.17\n",
    "        matriz_resultado[0][1] = -0.2150\n",
    "        matriz_resultado[1][0] = 0.2220\n",
    "        matriz_resultado[1][1] = 0.160\n",
    "        parametros_b[0] = 0.408\n",
    "        parametros_b[1] = 0.0893\n",
    "        return matriz_resultado, parametros_b\n",
    "    if ((0.3 < rand) and (rand < 1.0)):\n",
    "        matriz_resultado[0][0] = 0.7810\n",
    "        matriz_resultado[0][1] = 0.0340\n",
    "        matriz_resultado[1][0] = -0.0320\n",
    "        matriz_resultado[1][1] = 0.7390\n",
    "        parametros_b[0] = 0.1075\n",
    "        parametros_b[1] = 0.27\n",
    "        return matriz_resultado, parametros_b\n",
    "\n",
    "\n",
    "coordenadas_n = [0,0];\n",
    "matriz_A   = [[0.2,-0.1],[0.4,0.2]];\n",
    "parametros_b = [0.57,0.036]\n",
    "coordenadas_n_1 = [0,0]\n",
    "\n",
    "# Aquí almacenaremos los valores de los puntos x,y en una lista cada uno\n",
    "puntos_x=[]\n",
    "puntos_y=[]\n",
    "\n",
    "for i in range(0,50000):\n",
    "    coordenadas_n_1 = iterar(coordenadas_n,matriz_A,parametros_b)\n",
    "    matriz_A, parametros_b =  variarParametros()\n",
    "    puntos_x.append(coordenadas_n[0])\n",
    "    puntos_y.append(coordenadas_n[1])\n",
    "    coordenadas_n = coordenadas_n_1\n"
   ]
  },
  {
   "cell_type": "markdown",
   "metadata": {},
   "source": [
    "Para poder ver la hoja generada en memomoria es necesario graficar los puntos almacenados en las listas `puntos_x` y `puntos_y`"
   ]
  },
  {
   "cell_type": "code",
   "execution_count": 4,
   "metadata": {
    "collapsed": false
   },
   "outputs": [
    {
     "data": {
      "image/png": "[encoded data removed]",
      "text/plain": [
       "<matplotlib.figure.Figure at 0x7fcd4e3ba940>"
      ]
     },
     "metadata": {},
     "output_type": "display_data"
    }
   ],
   "source": [
    "%matplotlib inline\n",
    "\n",
    "import matplotlib.pyplot as plt\n",
    "plt.plot(puntos_x,puntos_y,\".\")\n",
    "plt.show()"
   ]
  }
 ],
 "metadata": {
  "kernelspec": {
   "display_name": "Python 3",
   "language": "python",
   "name": "python3"
  },
  "language_info": {
   "codemirror_mode": {
    "name": "ipython",
    "version": 3
   },
   "file_extension": ".py",
   "mimetype": "text/x-python",
   "name": "python",
   "nbconvert_exporter": "python",
   "pygments_lexer": "ipython3",
   "version": "3.5.1+"
  }
 },
 "nbformat": 4,
 "nbformat_minor": 0
}
