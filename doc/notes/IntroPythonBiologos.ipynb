{
 "cells": [
  {
   "cell_type": "markdown",
   "metadata": {},
   "source": [
    "<!-- dom:TITLE: **Introducción a Python para Ciencias Biólogicas**. -->\n",
    "# **Introducción a Python para Ciencias Biólogicas**.\n",
    "**Curso de Biofísica - Universidad de Antioquia**   \n",
    "\n",
    "<!-- dom:AUTHOR: Daniel Mejía Raigosa Email:danielmejia55@gmail.com at Universidad de Antioquia -->\n",
    "<!-- Author: --> **Daniel Mejía Raigosa** (email: `danielmejia55@gmail.com`), Universidad de Antioquia\n",
    "\n",
    "Date: **Abril 27, 2016**\n",
    "\n",
    "**Acerca de.**  \n",
    "Materiales de trabajo para el curso corto de Python para ciencias biológicas presentado en la Universidad\n",
    "de Antioquia el Miércoles 27 de Abril de 2016.   \n",
    "\n",
    "\n",
    "\n",
    "\n",
    "\n",
    "\n",
    "\n",
    "# Contenidos\n",
    "\n",
    " * [Motivación](#sec:motivacion)   \n",
    "\n",
    " * [Instalación de Python Anaconda](#sec:instalacion)  \n",
    "\n",
    " * [Consola de IPython](#sec:ipython)  \n",
    "\n",
    " * [Elementos de Python](#sec:elementospython)  \n",
    "\n",
    " * [Matplotlib](#sec:matplotlib)  \n",
    "\n",
    " * [Notebook Jupyter](#sec:jupyternb)  \n",
    "\n",
    "# Motivación\n",
    "<div id=\"sec:motivacion\"></div>\n",
    "\n",
    "# Instalación de Python Anaconda\n",
    "<div id=\"sec:instalacion\"></div>\n",
    "\n",
    "# Consola de IPython\n",
    "<div id=\"sec:ipython\"></div>\n",
    "\n",
    "# Notebook Jupyter\n",
    "<div id=\"sec:jupyternb\"></div>\n",
    "\n",
    "# Elementos de Python\n",
    "<div id=\"sec:elementospython\"></div>\n",
    "\n",
    "# Matplotlib\n",
    "<div id=\"sec:matplotlib\"></div>"
   ]
  }
 ],
 "metadata": {
  "kernelspec": {
   "display_name": "Python 3",
   "language": "python",
   "name": "python3"
  },
  "language_info": {
   "codemirror_mode": {
    "name": "ipython",
    "version": 3
   },
   "file_extension": ".py",
   "mimetype": "text/x-python",
   "name": "python",
   "nbconvert_exporter": "python",
   "pygments_lexer": "ipython3",
   "version": "3.5.1+"
  }
 },
 "nbformat": 4,
 "nbformat_minor": 0
}
