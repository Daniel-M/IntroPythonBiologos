{
 "cells": [
  {
   "cell_type": "markdown",
   "metadata": {},
   "source": [
    "<!-- dom:TITLE: **Introducción a Python para Ciencias Biólogicas**. -->\n",
    "# **Introducción a Python para Ciencias Biólogicas**.\n",
    "**Curso de Biofísica - Universidad de Antioquia**   \n",
    "\n",
    "<!-- dom:AUTHOR: Daniel Mejía Raigosa Email:danielmejia55@gmail.com at Universidad de Antioquia -->\n",
    "<!-- Author: --> **Daniel Mejía Raigosa** (email: `danielmejia55@gmail.com`), Universidad de Antioquia\n",
    "\n",
    "Date: **Abril 27, 2016**\n",
    "\n",
    "**Acerca de.**  \n",
    "Materiales de trabajo para el curso corto de Python para ciencias biológicas presentado en la Universidad\n",
    "de Antioquia el Miércoles 27 de Abril de 2016.  \n",
    "**Revisión del documento:** Versión 1.0\n",
    "\n",
    "<!-- !split    -->\n",
    "\n",
    "\n",
    "\n",
    "\n",
    "\n",
    "\n",
    "<!-- !split    -->\n",
    "# Contenidos\n",
    "\n",
    " * [Motivación:  programación en Ciencias Biológicas?](#ch:motivacion)   \n",
    "\n",
    " * [Instalación de Python Anaconda](#ch:instalacion)   \n",
    "\n",
    " * [Consola de IPython](#ch:ipython)   \n",
    "\n",
    " * [Elementos de Python](#ch:elementospython)   \n",
    "\n",
    " * [Matplotlib](#ch:matplotlib)   \n",
    "\n",
    " * [Notebook Jupyter](#ch:jupyternb)   \n",
    "\n",
    "<!-- !split    -->\n",
    "\n",
    "# Motivación:  programación en Ciencias Biológicas?\n",
    "<div id=\"ch:motivacion\"></div>\n",
    "\n",
    "Los sistemas biológicos exhiben gran complejidad. El desarrollo de técnicas experimentales y tecnologías nuevas \n",
    "ha causado que se disponga de datos experimentales cada vez más masivos, requiriéndose el uso de herramientas complejas\n",
    "que pueda manipular la cantidad de información disponible con facilidad. La mejor manera de exponer razones por las cuales\n",
    "un biógolo o profesional de las ciencias biológicas *debería* aprender a programar como una herramienta se puede hacer \n",
    "a través de casos reales de aplicación.  \n",
    "\n",
    "Dentro de los casos de éxito tenemos,  \n",
    "\n",
    " * __Ómicas__: genómica, proteómica, metabolómica, secuenciación...  \n",
    "\n",
    " * Minería de datos en bases de datos (Proteínas, Georeferenciación, ...).  \n",
    "\n",
    " * Dinámica de poblaciones (Ecosistémica?).  \n",
    "\n",
    " * Análisis estadístico masivo.  \n",
    "\n",
    " * Análisis de datos con inteligencia artificial (Redes Neuronales, Algoritmos Adaptativos y Evolutivos, ...).  \n",
    "<!-- [Why biology students should learn to program](http://www.wired.com/2009/03/why-biology-students-should-learn-how-to-program/) -->\n",
    "\n",
    "# Qué es Python?\n",
    "<div id=\"ch:motivacion:python\"></div>  \n",
    "\n",
    "`Python` es un lenguaje de programación *interpretado* que se ha popularizado mucho debido a su simpleza y\n",
    "relativa facilidad de aprendizaje. Es un lenguaje de programación de *scripting*, es decir, el código fuente se ejecuta línea a línea,\n",
    "y no requiere de su *compilación* para producir aplicaciones.  \n",
    "\n",
    "La diferencia entre un lenguaje de programación *compilado* y uno *interpretado* es que en el primer caso el código fuente debe ser\n",
    "compilado para producir un archivo ejecutable. Para el lenguaje interpretado se requiere de la existencia de una aplicación\n",
    "conocida como *interprete* que se encarga de ejecutar las instrucciones descritas en el código fuente o *script*.  \n",
    "\n",
    "<!-- =======  ======= -->\n",
    "<!-- <div id=\"ch:motivacion:\"></div> -->\n",
    "\n",
    "# Instalación de Python Anaconda\n",
    "<div id=\"ch:instalacion\"></div>\n",
    "\n",
    "Durante el desarrollo de este curso estaremos trabajando con una distribución de `Python` conocida como `Anaconda`.  \n",
    "`Anaconda` es un empaquetado de `Python` que incluye varios paquetes de uso frecuente en ciencias y análisis de datos, entre\n",
    "ellos  `Matplotlib` y `Numpy` de interés para este curso y cuya instalación independiente es bastante tediosa.\n",
    "\n",
    "[Enlace de descarga Anaconda para Windows](https://www.continuum.io/downloads#_windows)\n",
    "\n",
    "* Tamaño aproximado: `350 MB`.   \n",
    "\n",
    "* Tiempo de instalación aproximado: 15 minutos.   \n",
    "\n",
    "# Módulo Python Visual\n",
    "\n",
    "El módulo de `python-visual` es útil para el dibujado de objetos 3D y animaciones. Se puede instalar desde la consola\n",
    "de `Anaconda` mediante el comando,"
   ]
  },
  {
   "cell_type": "markdown",
   "metadata": {},
   "source": [
    "        conda install -c https://conda.binstar.org/mwcraig vpython\n"
   ]
  },
  {
   "cell_type": "markdown",
   "metadata": {},
   "source": [
    "[Más información y otros enlaces de descarga](http://vpython.org/contents/download_windows.html)  \n",
    "\n",
    "Para usar, `python-visual` con las versiones más nuevas [se recomienda incluir la siguiente línea al inicio del código](http://vpython.org/contents/download_windows.html)\n",
    "fuente,"
   ]
  },
  {
   "cell_type": "markdown",
   "metadata": {},
   "source": [
    "        from __future__ import print_function, division\n"
   ]
  },
  {
   "cell_type": "markdown",
   "metadata": {},
   "source": [
    "# Consola de IPython\n",
    "<div id=\"ch:ipython\"></div>\n",
    "\n",
    "## Consola de IPython\n",
    "\n",
    "Al abrir la consola de `IPython` en `Anaconda` nos debe aparecer el siguiente mensaje,"
   ]
  },
  {
   "cell_type": "markdown",
   "metadata": {},
   "source": [
    "Esta consola o *prompt* nos permite ingresar líneas de código `python` que se ejecutan después de ser ingresadas."
   ]
  },
  {
   "cell_type": "code",
   "execution_count": 1,
   "metadata": {
    "collapsed": false
   },
   "outputs": [],
   "source": [
    "print(\"Hola mundo!\")\n",
    "print(\"1+1=\",2)\n",
    "print(\"Hola, otra vez\",\"1+1=\",2)\n",
    "print(\"Hola, otra vez.\",\"Sabias que 1+1 =\",2,\"?\")\n",
    "numero=3\n",
    "print(numero)\n",
    "numero=3.1415\n",
    "print(numero)"
   ]
  },
  {
   "cell_type": "markdown",
   "metadata": {},
   "source": [
    "Probemos creando una variable que inicialice a una palabra"
   ]
  },
  {
   "cell_type": "code",
   "execution_count": 2,
   "metadata": {
    "collapsed": false
   },
   "outputs": [],
   "source": [
    "palabra=hola"
   ]
  },
  {
   "cell_type": "markdown",
   "metadata": {},
   "source": [
    "Esto produce la siguiente salida,"
   ]
  },
  {
   "cell_type": "markdown",
   "metadata": {},
   "source": [
    "```Python\n",
    "        palabra=hola\n",
    "        ---------------------------------------------------------------------------\n",
    "        NameError                                 Traceback (most recent call last)\n",
    "        <ipython-input-12-fda39d79c7ea> in <module>()\n",
    "        ----> 1 palabra=hola\n",
    "        \n",
    "        NameError: name 'hola' is not defined\n",
    "```"
   ]
  },
  {
   "cell_type": "markdown",
   "metadata": {},
   "source": [
    "Lo que ocurrió es que la expresión `palabra=hola` corresponde a la asignación del contenido de una variable llamada\n",
    "`hola` en una llamada `palabra`. La variable `hola` no existe (no fue definida previamente) por lo tanto se arrojó el error.   \n",
    "Para asignar el contenido de una *palabra* o *frase* se debe hacer uso de comillas dobles,"
   ]
  },
  {
   "cell_type": "code",
   "execution_count": 3,
   "metadata": {
    "collapsed": false
   },
   "outputs": [],
   "source": [
    "palabra=\"hola\"\n",
    "print(palabra)"
   ]
  },
  {
   "cell_type": "markdown",
   "metadata": {},
   "source": [
    "## El historial de comandos ingresados\n",
    "\n",
    "Mediante el comando,"
   ]
  },
  {
   "cell_type": "code",
   "execution_count": 4,
   "metadata": {
    "collapsed": false
   },
   "outputs": [],
   "source": [
    "%history"
   ]
  },
  {
   "cell_type": "markdown",
   "metadata": {},
   "source": [
    "Es posible visualizar la lista de los comandos ingresados durante una sesión de trabajo de `IPython`. También es posible crear\n",
    "un archivo que almacene los comandos de la sesión añadiendo la opción `-f nombre_archivo_destino.py`.  \n",
    "Por ejemplo, el comando"
   ]
  },
  {
   "cell_type": "code",
   "execution_count": 5,
   "metadata": {
    "collapsed": false
   },
   "outputs": [],
   "source": [
    "%history -f archivo_destino.py"
   ]
  },
  {
   "cell_type": "markdown",
   "metadata": {},
   "source": [
    "Crea el archivo `archivo_destino.py` en el directorio de trabajo actual. Los contenidos de dicho archivo son los comandos ingresados durante la sesión de trabajo.\n",
    "# Notebook Jupyter\n",
    "<div id=\"ch:jupyternb\"></div>\n",
    "\n",
    "# Elementos de Python\n",
    "<div id=\"ch:elementospython\"></div>\n",
    "\n",
    "# Matplotlib\n",
    "<div id=\"ch:matplotlib\"></div>"
   ]
  }
 ],
 "metadata": {
  "kernelspec": {
   "display_name": "Python 3",
   "language": "python",
   "name": "python3"
  },
  "language_info": {
   "codemirror_mode": {
    "name": "ipython",
    "version": 3
   },
   "file_extension": ".py",
   "mimetype": "text/x-python",
   "name": "python",
   "nbconvert_exporter": "python",
   "pygments_lexer": "ipython3",
   "version": "3.5.1+"
  }
 },
 "nbformat": 4,
 "nbformat_minor": 0
}
