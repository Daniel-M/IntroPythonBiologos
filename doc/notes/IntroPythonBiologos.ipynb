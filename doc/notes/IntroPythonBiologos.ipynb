{
 "cells": [
  {
   "cell_type": "markdown",
   "metadata": {},
   "source": [
    "# Introducción a Python para Ciencias Biólogicas   \n",
    "## Curso de Biofísica - Universidad de Antioquia\n",
    "## Daniel Mejía Raigosa (email: `danielmejia55@gmail.com`)\n",
    "### Grupo de Biofísica\n",
    "### Universidad de Antioquia\n",
    "\n",
    "\n",
    "Date: **Abril 27, 2016   **"
   ]
  },
  {
   "cell_type": "markdown",
   "metadata": {},
   "source": [
    "**Acerca de.**   \n",
    "Materiales de trabajo para el curso corto de Python para ciencias biológicas presentado en la Universidad\n",
    "de Antioquia el Miércoles 27 de Abril de 2016.   \n",
    "**Revisión del documento:** Versión 1.3.0   "
   ]
  },
  {
   "cell_type": "markdown",
   "metadata": {},
   "source": [
    "# Contenidos     \n",
    "\n",
    "\n",
    "* [Motivación:  programación en Ciencias Biológicas?](#ch:motivacion)     \n",
    "* [Instalación de Python Anaconda](#ch:instalacion)    \n",
    "* [Consola de IPython](#ch:ipython)    \n",
    "* [Notebook Jupyter](#ch:jupyternb)    \n",
    "* [Elementos de Python](#ch:elementospython)    \n",
    "* [Numpy](#ch:intro-numpy)    \n",
    "* [Matplotlib](#ch:intro-matplotlib)    "
   ]
  },
  {
   "cell_type": "markdown",
   "metadata": {},
   "source": [
    "# Motivación:  programación en Ciencias Biológicas?\n",
    "<div id=\"ch:motivacion\"></div>\n",
    "\n",
    "Los sistemas biológicos exhiben gran complejidad. El desarrollo de técnicas experimentales y tecnologías nuevas \n",
    "ha causado que se disponga de datos experimentales cada vez más masivos, requiriéndose el uso de herramientas complejas\n",
    "que pueda manipular la cantidad de información disponible con facilidad. La mejor manera de exponer razones por las cuales\n",
    "un biógolo o profesional de las ciencias biológicas *debería* aprender a programar como una herramienta se puede hacer \n",
    "a través de casos reales de aplicación.  \n",
    "\n",
    "Dentro de los casos de éxito tenemos,  \n",
    "\n",
    " * __Ómicas__: genómica, proteómica, metabolómica, secuenciación...  \n",
    "\n",
    " * Minería de datos en bases de datos (Proteínas, Georeferenciación, ...).  \n",
    "\n",
    " * Dinámica de poblaciones (Ecosistémica?).  \n",
    "\n",
    " * Análisis estadístico masivo.  \n",
    "\n",
    " * Análisis de datos con inteligencia artificial (Redes Neuronales, Algoritmos Adaptativos y Evolutivos, ...).  \n",
    "\n",
    " * Simulación en general (*Demasiados casos de éxito...*).\n",
    "<!-- [Why biology students should learn to program](http://www.wired.com/2009/03/why-biology-students-should-learn-how-to-program/) -->\n",
    "\n",
    "# Qué es Python?\n",
    "<div id=\"ch:motivacion:python\"></div>  \n",
    "\n",
    "`Python` es un lenguaje de programación *interpretado* que se ha popularizado mucho debido a su simpleza y\n",
    "relativa facilidad de aprendizaje. Es un lenguaje de programación de *scripting*, es decir, el código fuente se ejecuta línea a línea,\n",
    "y no requiere de su *compilación* para producir aplicaciones.  \n",
    "\n",
    "La diferencia entre un lenguaje de programación *compilado* y uno *interpretado* es que en el primer caso el código fuente debe ser\n",
    "compilado para producir un archivo ejecutable. Para el lenguaje interpretado se requiere de la existencia de una aplicación\n",
    "conocida como *interprete* que se encarga de ejecutar las instrucciones descritas en el código fuente o *script*.  \n",
    "\n",
    "<!-- =======  ======= -->\n",
    "<!-- <div id=\"ch:motivacion:\"></div> -->\n",
    "\n",
    "# Instalación de Python Anaconda\n",
    "<div id=\"ch:instalacion\"></div>\n",
    "\n",
    "Durante el desarrollo de este curso estaremos trabajando con una distribución de `Python` conocida como `Anaconda`.  \n",
    "`Anaconda` es un empaquetado de `Python` que incluye varios paquetes de uso frecuente en ciencias y análisis de datos, entre\n",
    "ellos  `Matplotlib` y `Numpy` de interés para este curso y cuya instalación independiente es bastante tediosa.\n",
    "\n",
    "[Enlace de descarga Anaconda para Windows](https://www.continuum.io/downloads#_windows)\n",
    "\n",
    "* Tamaño aproximado: `350 MB`.   \n",
    "\n",
    "* Tiempo de instalación aproximado: 15 minutos.   \n",
    "\n",
    "# Módulo Python Visual (VPython)\n",
    "\n",
    "El módulo de `python-visual` es útil para el dibujado de objetos 3D y animaciones.\n",
    "El módulo VisualPython (VPython) funciona bajo Python 2.7 que es la versión estándar anterior a Python 3.x.\n",
    "Para instalar vpython con `Anaconda` 3.5 se deben seguir los siguientes pasos\n",
    "Crear un entorno con Python 2.7 en Anaconda, mediante el comando"
   ]
  },
  {
   "cell_type": "markdown",
   "metadata": {},
   "source": [
    "        conda create --name oldpython python=2.7\n"
   ]
  },
  {
   "cell_type": "markdown",
   "metadata": {},
   "source": [
    "el nombre `oldpython` puede ser cambiado por cualquier otro. Posteriormente, es necesario activar el nuevo entorno"
   ]
  },
  {
   "cell_type": "markdown",
   "metadata": {},
   "source": [
    "        activate oldpython\n"
   ]
  },
  {
   "cell_type": "markdown",
   "metadata": {},
   "source": [
    "Ya se puede instalar vpython desde la consola de `Anaconda` mediante el comando,"
   ]
  },
  {
   "cell_type": "markdown",
   "metadata": {},
   "source": [
    "        conda install -c https://conda.binstar.org/mwcraig vpython\n"
   ]
  },
  {
   "cell_type": "markdown",
   "metadata": {},
   "source": [
    "Opcionalmente, para usar vpython con IPython es necesario instalar una versión de ipython compatible con python 2.7.\n",
    "Esto se logra mediante el comando"
   ]
  },
  {
   "cell_type": "markdown",
   "metadata": {},
   "source": [
    "        conda install ipython\n"
   ]
  },
  {
   "cell_type": "markdown",
   "metadata": {},
   "source": [
    "Siempre y cuando tengamos el entorno `oldpython` activado.\n",
    "\n",
    "[Más información y otros enlaces de descarga](http://vpython.org/contents/download_windows.html)  \n",
    "\n",
    "\n",
    "Para usar, `vpython` con las versiones más nuevas de python [se recomienda incluir la siguiente línea al inicio del código](http://vpython.org/contents/download_windows.html)\n",
    "fuente,"
   ]
  },
  {
   "cell_type": "markdown",
   "metadata": {},
   "source": [
    "        from __future__ import print_function, division\n"
   ]
  },
  {
   "cell_type": "markdown",
   "metadata": {},
   "source": [
    "# Editor ATOM (Opcional)\n",
    "\n",
    "Cualquier editor de texto es útil para escribir código fuente en python, el único requisito es guardar el código fuente con extensión `.py`.  \n",
    "Un editor que podría ser útil debido al resaltado de sintaxis es [ATOM](https://atom.io/) el cual puede descargarse para windows desde \n",
    "este enlace <https://github.com/atom/atom/releases/download/v1.7.2/atom-windows.zip>   \n",
    "\n",
    "* Tamaño aproximado: `100 MB`.   \n",
    "\n",
    "# Consola de IPython\n",
    "<div id=\"ch:ipython\"></div>\n",
    "\n",
    "\n",
    "<!-- dom:FIGURE: [figures/ipython-console.png, width=640 frac=0.8] Consola de IPython en Linux <div id=\"ch:ipython:fig:consola_ejemplo\"></div> -->\n",
    "<!-- begin figure -->\n",
    "<div id=\"ch:ipython:fig:consola_ejemplo\"></div>\n",
    "\n",
    "<p>Consola de IPython en Linux</p>\n",
    "<img src=\"figures/ipython-console.png\" width=640>\n",
    "\n",
    "<!-- end figure -->\n",
    "\n",
    "\n",
    "Para iniciar una consola de `IPython` es necesario buscar la carpeta de instalación de `Anaconda` en el menú de inicio\n",
    "de windows, y abrir el acceso directo `IPyton` correspondiente.\n",
    "\n",
    "Al abrir la consola de `IPython` nos debe aparecer el siguiente mensaje (tal como en la figura más arriba ),"
   ]
  },
  {
   "cell_type": "markdown",
   "metadata": {},
   "source": [
    "Esta consola o *prompt* nos permite ingresar líneas de código `python` que se ejecutan después de ser ingresadas."
   ]
  },
  {
   "cell_type": "code",
   "execution_count": 1,
   "metadata": {},
   "outputs": [
    {
     "name": "stdout",
     "output_type": "stream",
     "text": [
      "Hola mundo!\n"
     ]
    }
   ],
   "source": [
    "print(\"Hola mundo!\")"
   ]
  },
  {
   "cell_type": "code",
   "execution_count": 2,
   "metadata": {},
   "outputs": [
    {
     "name": "stdout",
     "output_type": "stream",
     "text": [
      "1+1= 2\n"
     ]
    }
   ],
   "source": [
    "print(\"1+1=\",2)"
   ]
  },
  {
   "cell_type": "code",
   "execution_count": 3,
   "metadata": {},
   "outputs": [
    {
     "name": "stdout",
     "output_type": "stream",
     "text": [
      "Hola, otra vez 1+1= 2\n"
     ]
    }
   ],
   "source": [
    "print(\"Hola, otra vez\",\"1+1=\",2)"
   ]
  },
  {
   "cell_type": "code",
   "execution_count": 4,
   "metadata": {},
   "outputs": [
    {
     "name": "stdout",
     "output_type": "stream",
     "text": [
      "Hola, otra vez. Sabias que 1+1 = 2 ?\n"
     ]
    }
   ],
   "source": [
    "print(\"Hola, otra vez.\",\"Sabias que 1+1 =\",2,\"?\")"
   ]
  },
  {
   "cell_type": "code",
   "execution_count": 5,
   "metadata": {},
   "outputs": [],
   "source": [
    "numero=3"
   ]
  },
  {
   "cell_type": "code",
   "execution_count": 6,
   "metadata": {},
   "outputs": [
    {
     "name": "stdout",
     "output_type": "stream",
     "text": [
      "3\n"
     ]
    }
   ],
   "source": [
    "print(numero)"
   ]
  },
  {
   "cell_type": "code",
   "execution_count": 7,
   "metadata": {},
   "outputs": [],
   "source": [
    "numero=3.1415"
   ]
  },
  {
   "cell_type": "code",
   "execution_count": 8,
   "metadata": {},
   "outputs": [
    {
     "name": "stdout",
     "output_type": "stream",
     "text": [
      "3.1415\n"
     ]
    }
   ],
   "source": [
    "print(numero)"
   ]
  },
  {
   "cell_type": "markdown",
   "metadata": {},
   "source": [
    "Probemos creando una variable que inicialice a una palabra"
   ]
  },
  {
   "cell_type": "raw",
   "metadata": {},
   "source": [
    "palabra=hola"
   ]
  },
  {
   "cell_type": "markdown",
   "metadata": {},
   "source": [
    "Esto produce la siguiente salida,"
   ]
  },
  {
   "cell_type": "markdown",
   "metadata": {},
   "source": [
    "```Python\n",
    "        palabra=hola\n",
    "        ---------------------------------------------------------------------------\n",
    "        NameError                                 Traceback (most recent call last)\n",
    "        <ipython-input-12-fda39d79c7ea> in <module>()\n",
    "        ----> 1 palabra=hola\n",
    "        \n",
    "        NameError: name 'hola' is not defined\n",
    "```"
   ]
  },
  {
   "cell_type": "markdown",
   "metadata": {},
   "source": [
    "Lo que ocurrió es que la expresión `palabra=hola` corresponde a la asignación del contenido de una variable llamada\n",
    "`hola` en una llamada `palabra`. La variable `hola` no existe (no fue definida previamente) por lo tanto se arrojó el error.   \n",
    "Para asignar el contenido de una *palabra* o *frase* se debe hacer uso de comillas dobles,"
   ]
  },
  {
   "cell_type": "code",
   "execution_count": 9,
   "metadata": {},
   "outputs": [],
   "source": [
    "palabra=\"hola\""
   ]
  },
  {
   "cell_type": "code",
   "execution_count": 10,
   "metadata": {},
   "outputs": [
    {
     "name": "stdout",
     "output_type": "stream",
     "text": [
      "hola\n"
     ]
    }
   ],
   "source": [
    "print(palabra)"
   ]
  },
  {
   "cell_type": "markdown",
   "metadata": {},
   "source": [
    "## El historial de comandos ingresados\n",
    "\n",
    "Mediante el comando,"
   ]
  },
  {
   "cell_type": "code",
   "execution_count": 11,
   "metadata": {},
   "outputs": [
    {
     "name": "stdout",
     "output_type": "stream",
     "text": [
      "print(\"Hola mundo!\")\n",
      "print(\"1+1=\",2)\n",
      "print(\"Hola, otra vez\",\"1+1=\",2)\n",
      "print(\"Hola, otra vez.\",\"Sabias que 1+1 =\",2,\"?\")\n",
      "numero=3\n",
      "print(numero)\n",
      "numero=3.1415\n",
      "print(numero)\n",
      "palabra=\"hola\"\n",
      "print(palabra)\n",
      "%history\n"
     ]
    }
   ],
   "source": [
    "%history"
   ]
  },
  {
   "cell_type": "markdown",
   "metadata": {},
   "source": [
    "Es posible visualizar la lista de los comandos ingresados durante una sesión de trabajo de `IPython`. También es posible crear\n",
    "un archivo que almacene los comandos de la sesión añadiendo la opción `-f nombre_archivo_destino.py`.  \n",
    "Por ejemplo, el comando"
   ]
  },
  {
   "cell_type": "code",
   "execution_count": 12,
   "metadata": {},
   "outputs": [
    {
     "name": "stdout",
     "output_type": "stream",
     "text": [
      "File 'archivo_destino.py' exists. Overwrite? y\n",
      "Overwriting file.\n"
     ]
    }
   ],
   "source": [
    "%history -f archivo_destino.py"
   ]
  },
  {
   "cell_type": "markdown",
   "metadata": {},
   "source": [
    "Crea el archivo `archivo_destino.py` en el directorio de trabajo actual. Los contenidos de dicho archivo son los comandos ingresados durante la sesión de trabajo.\n",
    "# Notebook Jupyter\n",
    "<div id=\"ch:jupyternb\"></div>\n",
    "\n",
    "**Jupyter** es la evolución de lo que se conocía como `notebooks` de `IPython`, una interfaz en un navegador web que interacciona con un\n",
    "*kernel* o *núcleo de computación* de `IPython` el cual se encarga de ejecutar los comandos ingresados en el notebook.  \n",
    "Actualmente Jupyter soporta varios núcleos de computación, entre ellos `Python`, `R`, `Perl`, entre otros.\n",
    "\n",
    "<!-- dom:FIGURE: [figures/jupyter-console.png, width=640 frac=0.8] Notebook de Jupyter <div id=\"ch:jupyternb:fig:notebook_ejemplo\"></div>   -->\n",
    "<!-- begin figure -->\n",
    "<div id=\"ch:jupyternb:fig:notebook_ejemplo\"></div>\n",
    "\n",
    "<p>Notebook de Jupyter</p>\n",
    "<img src=\"figures/jupyter-console.png\" width=640>\n",
    "\n",
    "<!-- end figure -->\n",
    "\n",
    "\n",
    "## Iniciando el notebook\n",
    "\n",
    "Para iniciar un notebook de Jupyter en `Anaconda` es necesario ejecutar el enlace directo con nombre `Jupyter`\n",
    "en el menú de inicio, bajo el directorio de `Anaconda`\n",
    "Esto iniciará el kernel establecido por defecto según la instalación de `Anaconda` que hayamos elegido,\n",
    "y se abrirá una ventana del navegador web del sistema presentando el notebook de manera similar que vemos \n",
    "en la figura  más arriba\n",
    "\n",
    "# Elementos de Python\n",
    "<div id=\"ch:elementospython\"></div>\n",
    "\n",
    "# Sintaxis\n",
    "\n",
    "\n",
    "## Variables y tipos de datos\n",
    "\n",
    "En programación existe el concepto de *variable*. Una variable puede verse como una etiqueta que le damos a una región\n",
    "de memoria donde almacenamos información. La utilidad de tener *etiquetadas* regiones de memoria es que podemos hacer llamadas\n",
    "a ella en cualquier parte de nuestros programas."
   ]
  },
  {
   "cell_type": "code",
   "execution_count": 13,
   "metadata": {},
   "outputs": [
    {
     "name": "stdout",
     "output_type": "stream",
     "text": [
      "Almaceno contenido\n"
     ]
    }
   ],
   "source": [
    "Cualquier_Cosa=\"Almaceno contenido\"\n",
    "print(Cualquier_Cosa)"
   ]
  },
  {
   "cell_type": "markdown",
   "metadata": {},
   "source": [
    "Las variables pueden clasificarse según los siguientes tipos de datos,\n",
    "\n",
    " * Booleanos: almacenan valores de verdad, *verdaero*, *falso*, 1, 0.   \n",
    "\n",
    " * Enteros: almacenan valores numéricos enteros, como 2, -2, 3, 1000.   \n",
    "\n",
    " * Punto flotante: almacenan valores numéricos de *punto flotante* es decir, números con decimales o en notación científica.  \n",
    " * Cadenas: almacenan valores tipo cadena de caracteres como las oración \"Hola Mundo!\"   \n",
    "\n",
    "### Variables Booleanas `bool`\n",
    "\n",
    "Almacenan valores de verdad *verdadero* o *falso* que en `Python` corresponden a `true` y `false`"
   ]
  },
  {
   "cell_type": "code",
   "execution_count": 14,
   "metadata": {},
   "outputs": [
    {
     "name": "stdout",
     "output_type": "stream",
     "text": [
      "True\n",
      "False\n"
     ]
    }
   ],
   "source": [
    "verdadera = True\n",
    "falsa = False\n",
    "print(verdadera)\n",
    "print(falsa)"
   ]
  },
  {
   "cell_type": "markdown",
   "metadata": {},
   "source": [
    "### Enteros `int`\n",
    "\n",
    "Almacenan valores numéricos enteros, tanto positivos como negativos,"
   ]
  },
  {
   "cell_type": "code",
   "execution_count": 15,
   "metadata": {},
   "outputs": [
    {
     "name": "stdout",
     "output_type": "stream",
     "text": [
      "19881129\n"
     ]
    }
   ],
   "source": [
    "numero=19881129\n",
    "print(numero)"
   ]
  },
  {
   "cell_type": "code",
   "execution_count": 16,
   "metadata": {},
   "outputs": [
    {
     "name": "stdout",
     "output_type": "stream",
     "text": [
      "19881129\n"
     ]
    }
   ],
   "source": [
    "numeronegativo=-19881129\n",
    "print(numero)"
   ]
  },
  {
   "cell_type": "markdown",
   "metadata": {},
   "source": [
    "### Punto flotante `float`\n",
    "\n",
    "Almacenan valores numéricos de punto flotante,"
   ]
  },
  {
   "cell_type": "code",
   "execution_count": 17,
   "metadata": {},
   "outputs": [
    {
     "name": "stdout",
     "output_type": "stream",
     "text": [
      "3.19881129\n"
     ]
    }
   ],
   "source": [
    "numero=3.19881129\n",
    "print(numero)"
   ]
  },
  {
   "cell_type": "code",
   "execution_count": 18,
   "metadata": {},
   "outputs": [
    {
     "name": "stdout",
     "output_type": "stream",
     "text": [
      "3.19881129\n"
     ]
    }
   ],
   "source": [
    "numeronegativo=-3.19881129\n",
    "print(numero)"
   ]
  },
  {
   "cell_type": "markdown",
   "metadata": {},
   "source": [
    "### Cadenas de texto `string`\n",
    "\n",
    "Almacenan el contenido de texto o caracteres,"
   ]
  },
  {
   "cell_type": "code",
   "execution_count": 19,
   "metadata": {},
   "outputs": [
    {
     "name": "stdout",
     "output_type": "stream",
     "text": [
      "Alicia\n",
      "¿En qué se parecen un cuervo y un escritorio?\n"
     ]
    }
   ],
   "source": [
    "palabra=\"Alicia\"\n",
    "frase=\"¿En qué se parecen un cuervo y un escritorio?\"\n",
    "print(palabra)\n",
    "print(frase)"
   ]
  },
  {
   "cell_type": "markdown",
   "metadata": {},
   "source": [
    "### Listas `list`\n",
    "\n",
    "Las listas son un tipo especial de variable que permite almacenar una secuencia de varios objetos. Por ejemplo la lista,"
   ]
  },
  {
   "cell_type": "code",
   "execution_count": 20,
   "metadata": {},
   "outputs": [],
   "source": [
    "lista = [2,3.5,True, \"perro feliz\"] #existe en esta lista diferentes tipos de datos"
   ]
  },
  {
   "cell_type": "markdown",
   "metadata": {},
   "source": [
    "Las listas permiten acceder a cada elemento utilizando un sistema de indices que van desde el 0 hasta el `N-1` donde `N`\n",
    "es el tamaño de la lista, es decir, la cantidad de elementos que almacena"
   ]
  },
  {
   "cell_type": "code",
   "execution_count": 21,
   "metadata": {},
   "outputs": [
    {
     "name": "stdout",
     "output_type": "stream",
     "text": [
      "2\n",
      "3.5\n",
      "True\n",
      "perro feliz\n"
     ]
    }
   ],
   "source": [
    "print(lista[0])\n",
    "print(lista[1])\n",
    "print(lista[2])\n",
    "print(lista[3])"
   ]
  },
  {
   "cell_type": "markdown",
   "metadata": {},
   "source": [
    "También es posible mostrar los contenidos de una lista utilizando `print`"
   ]
  },
  {
   "cell_type": "code",
   "execution_count": 22,
   "metadata": {},
   "outputs": [
    {
     "name": "stdout",
     "output_type": "stream",
     "text": [
      "[2, 3.5, True, 'perro feliz']\n"
     ]
    }
   ],
   "source": [
    "print(lista)"
   ]
  },
  {
   "cell_type": "markdown",
   "metadata": {},
   "source": [
    "### Algunos métodos de las listas"
   ]
  },
  {
   "cell_type": "code",
   "execution_count": 23,
   "metadata": {},
   "outputs": [
    {
     "name": "stdout",
     "output_type": "stream",
     "text": [
      "[]\n",
      "[1, ':D', '0211']\n",
      "[1, ':D']\n"
     ]
    }
   ],
   "source": [
    "lista=[]\n",
    "print(lista)\n",
    "lista.append(1)\n",
    "lista.append(\":D\")\n",
    "lista.append(\"0211\")\n",
    "print(lista)\n",
    "lista.remove(\"0211\")\n",
    "print(lista)"
   ]
  },
  {
   "cell_type": "code",
   "execution_count": 24,
   "metadata": {},
   "outputs": [],
   "source": [
    "barranquero={\"Reino\":\"Animalia\",\"Filo\":\"Chordata\",\"Clase\":\"Aves\",\"Orden\":\"Coraciiformes\",\"Familia\":\"Momotidae\",\"Género\":\"Momotus\"}\n",
    "velociraptor={\"Reino\":\"Animalia\",\"Filo\":\"Chordata\",\"Clase\":\"Sauropsida\",\"Orden\":\"Saurischia\",\"Familia\":\"Dromaeosauridae\",\"Género\":\"Velociraptor\"}"
   ]
  },
  {
   "cell_type": "code",
   "execution_count": 25,
   "metadata": {},
   "outputs": [
    {
     "name": "stdout",
     "output_type": "stream",
     "text": [
      "{'Orden': 'Coraciiformes', 'Familia': 'Momotidae', 'Filo': 'Chordata', 'Clase': 'Aves', 'Reino': 'Animalia', 'Género': 'Momotus'}\n"
     ]
    }
   ],
   "source": [
    "print(barranquero)"
   ]
  },
  {
   "cell_type": "code",
   "execution_count": 26,
   "metadata": {
    "collapsed": true
   },
   "outputs": [],
   "source": [
    "Meses={\"Enero\":1,\"Febrero\":2}"
   ]
  },
  {
   "cell_type": "code",
   "execution_count": 27,
   "metadata": {},
   "outputs": [
    {
     "data": {
      "text/plain": [
       "1"
      ]
     },
     "execution_count": 27,
     "metadata": {},
     "output_type": "execute_result"
    }
   ],
   "source": [
    "Meses[\"Enero\"]"
   ]
  },
  {
   "cell_type": "code",
   "execution_count": 28,
   "metadata": {},
   "outputs": [
    {
     "data": {
      "text/plain": [
       "'Enero'"
      ]
     },
     "execution_count": 28,
     "metadata": {},
     "output_type": "execute_result"
    }
   ],
   "source": [
    "Meses={1:\"Enero\",2:\"Febrero\"}\n",
    "Meses[1]"
   ]
  },
  {
   "cell_type": "markdown",
   "metadata": {},
   "source": [
    "## Interacción con el usuario\n",
    "\n",
    "### Mostrar mensajes en pantalla\n",
    "\n",
    "Para presentar comandos en pantalla se utiliza el comando `print()` colocando el contenido de lo que se desea mostrar\n",
    "al interior de los `()`.   \n",
    "\n",
    "Por ejemplo"
   ]
  },
  {
   "cell_type": "code",
   "execution_count": 29,
   "metadata": {},
   "outputs": [
    {
     "name": "stdout",
     "output_type": "stream",
     "text": [
      "Hola\n"
     ]
    }
   ],
   "source": [
    "print(\"Hola\")"
   ]
  },
  {
   "cell_type": "markdown",
   "metadata": {},
   "source": [
    "Al interior tenemos *la cadena de caracteres* \"Hola\"."
   ]
  },
  {
   "cell_type": "code",
   "execution_count": 30,
   "metadata": {},
   "outputs": [
    {
     "name": "stdout",
     "output_type": "stream",
     "text": [
      "5.5\n"
     ]
    }
   ],
   "source": [
    "print(5.5)"
   ]
  },
  {
   "cell_type": "markdown",
   "metadata": {},
   "source": [
    "Es posible ingresar varios argumentos a la función `print`,"
   ]
  },
  {
   "cell_type": "code",
   "execution_count": 31,
   "metadata": {},
   "outputs": [
    {
     "name": "stdout",
     "output_type": "stream",
     "text": [
      "Voy a tener varios argumentos separados por 1 coma entre ellos\n"
     ]
    }
   ],
   "source": [
    "print(\"Voy a tener varios argumentos\",\"separados\",\"por\",1,\"coma\",\"entre ellos\")"
   ]
  },
  {
   "cell_type": "markdown",
   "metadata": {},
   "source": [
    "### Secuencias de escape en texto\n",
    "\n",
    "Las secuencias de escape son un conjunto de caracteres especiales que cotienen información sobre el formateo de texto,\n",
    "\n",
    " * `\\n` significa nueva línea.   \n",
    "\n",
    " * `\\t` significa un espacio de tabulación.    \n",
    "\n",
    " * `\\'` permite colocar comillas simples en el texto.   \n",
    "\n",
    " * `\\\"` permite colocar comillas dobles en el texto.   \n",
    "\n",
    "Un código de ejemplo ilustra mejor su uso,"
   ]
  },
  {
   "cell_type": "code",
   "execution_count": 32,
   "metadata": {},
   "outputs": [
    {
     "name": "stdout",
     "output_type": "stream",
     "text": [
      "Esto es un \"texto\" que se divide por\n",
      "Una línea nueva\n",
      "También puedo tener texto\tseparado por un tabulador\n",
      "Las secuencias de escape\n",
      "\t pueden ser combinadas\n",
      "cuantas veces se quiera\n"
     ]
    }
   ],
   "source": [
    "print(\"Esto es un \\\"texto\\\" que se divide por\\nUna línea nueva\")\n",
    "print(\"También puedo tener texto\\tseparado por un tabulador\")\n",
    "print(\"Las secuencias de escape\\n\\t pueden ser combinadas\\ncuantas veces se quiera\")"
   ]
  },
  {
   "cell_type": "markdown",
   "metadata": {},
   "source": [
    "### Leer información ingresada por el teclado\n",
    "\n",
    "Se puede leer información ingresada por el teclado mediante el comando `input` el cual debe ir almacenado en una variable\n",
    "dentro del paréntesis se puede ingresar un mensaje (opcional)."
   ]
  },
  {
   "cell_type": "code",
   "execution_count": 33,
   "metadata": {},
   "outputs": [
    {
     "name": "stdout",
     "output_type": "stream",
     "text": [
      "Que quieres saber?: Orden\n",
      "Coraciiformes\n"
     ]
    }
   ],
   "source": [
    "nombre=input(\"Que quieres saber?: \")\n",
    "print(barranquero[nombre])"
   ]
  },
  {
   "cell_type": "markdown",
   "metadata": {},
   "source": [
    "Es equivalente  a tener,"
   ]
  },
  {
   "cell_type": "code",
   "execution_count": 34,
   "metadata": {},
   "outputs": [
    {
     "name": "stdout",
     "output_type": "stream",
     "text": [
      "Hola, cual es tu nombre?\n",
      "Daniel\n",
      "Tu nombre es Daniel\n"
     ]
    }
   ],
   "source": [
    "print(\"Hola, cual es tu nombre?\")\n",
    "nombre=input() # es necesario colocar comillas al texto ingresado\n",
    "print(\"Tu nombre es\",nombre)"
   ]
  },
  {
   "cell_type": "markdown",
   "metadata": {},
   "source": [
    "## Estructuras de control\n",
    "\n",
    "Las estructuras de control determinan el comportamiento de un programa con base en desiciones. Los criterios de decisión\n",
    "suelen ser condiciones de lógica *Booleana*, es decir, *Verdadero* o *Falso*.\n",
    "\n",
    "\n",
    "### Operaciones lógicas `and`, `or`\n",
    "\n",
    "Corresponde a las operaciones lógicas de *conjunción* y *disyunción*. Las tablas de verdad son las siguientes,\n",
    "\n",
    "**Conjunción** `and`    \n",
    "<table border=\"1\">\n",
    "<thead>\n",
    "<tr><th align=\"center\">A</th> <th align=\"center\">B</th> <th align=\"center\">A <code>and</code> B</th> </tr>\n",
    "</thead>\n",
    "<tbody>\n",
    "<tr><td align=\"center\">   V    </td> <td align=\"center\">   V    </td> <td align=\"center\">   V            </td> </tr>\n",
    "<tr><td align=\"center\">   V    </td> <td align=\"center\">   F    </td> <td align=\"center\">   F            </td> </tr>\n",
    "<tr><td align=\"center\">   F    </td> <td align=\"center\">   V    </td> <td align=\"center\">   F            </td> </tr>\n",
    "<tr><td align=\"center\">   F    </td> <td align=\"center\">   F    </td> <td align=\"center\">   F            </td> </tr>\n",
    "</tbody>\n",
    "</table>"
   ]
  },
  {
   "cell_type": "code",
   "execution_count": 35,
   "metadata": {},
   "outputs": [
    {
     "name": "stdout",
     "output_type": "stream",
     "text": [
      "Tabla de verdad 'and'\n",
      "True and True = True\n",
      "True and False = True\n",
      "False and True = True\n",
      "False and False = False\n"
     ]
    }
   ],
   "source": [
    "print(\"Tabla de verdad \\'and\\'\")\n",
    "A = True\n",
    "B = True\n",
    "print(A,\"and\",B,\"=\",A or B)\n",
    "A = True\n",
    "B = False\n",
    "print(A,\"and\",B,\"=\",A or B)\n",
    "A = False\n",
    "B = True\n",
    "print(A,\"and\",B,\"=\",A or B)\n",
    "A = False\n",
    "B = False\n",
    "print(A,\"and\",B,\"=\",A or B)"
   ]
  },
  {
   "cell_type": "markdown",
   "metadata": {},
   "source": [
    "**Disyunción** `or`   \n",
    "<table border=\"1\">\n",
    "<thead>\n",
    "<tr><th align=\"center\">A</th> <th align=\"center\">B</th> <th align=\"center\">A <code>or</code> B</th> </tr>\n",
    "</thead>\n",
    "<tbody>\n",
    "<tr><td align=\"center\">   V    </td> <td align=\"center\">   V    </td> <td align=\"center\">   F           </td> </tr>\n",
    "<tr><td align=\"center\">   V    </td> <td align=\"center\">   F    </td> <td align=\"center\">   V           </td> </tr>\n",
    "<tr><td align=\"center\">   F    </td> <td align=\"center\">   V    </td> <td align=\"center\">   V           </td> </tr>\n",
    "<tr><td align=\"center\">   F    </td> <td align=\"center\">   F    </td> <td align=\"center\">   V           </td> </tr>\n",
    "</tbody>\n",
    "</table>"
   ]
  },
  {
   "cell_type": "code",
   "execution_count": 36,
   "metadata": {},
   "outputs": [
    {
     "name": "stdout",
     "output_type": "stream",
     "text": [
      "Tabla de verdad 'or'\n",
      "True or True = True\n",
      "True or False = True\n",
      "False or True = True\n",
      "False or False = False\n"
     ]
    }
   ],
   "source": [
    "print(\"Tabla de verdad \\'or\\'\")\n",
    "A = True\n",
    "B = True\n",
    "print(A,\"or\",B,\"=\",A or B)\n",
    "A = True\n",
    "B = False\n",
    "print(A,\"or\",B,\"=\",A or B)\n",
    "A = False\n",
    "B = True\n",
    "print(A,\"or\",B,\"=\",A or B)\n",
    "A = False\n",
    "B = False\n",
    "print(A,\"or\",B,\"=\",A or B)"
   ]
  },
  {
   "cell_type": "markdown",
   "metadata": {},
   "source": [
    "### Operadores lógicos de comparación `<=`, `>=`, `<`, `>`,y `==`\n",
    "\n",
    "Los operadores lógicos de comparación retornan los valores de verdad correspondientes al resultado de la comparación"
   ]
  },
  {
   "cell_type": "code",
   "execution_count": 37,
   "metadata": {},
   "outputs": [
    {
     "name": "stdout",
     "output_type": "stream",
     "text": [
      "True\n",
      "False\n",
      "False\n",
      "True\n",
      "True\n",
      "False\n",
      "True\n"
     ]
    }
   ],
   "source": [
    "A=5\n",
    "print(5>2)\n",
    "print(5<2)\n",
    "print(5==10)\n",
    "print(5==A)\n",
    "print(5>=2)\n",
    "print(5<=2)\n",
    "print(5<=A)"
   ]
  },
  {
   "cell_type": "markdown",
   "metadata": {},
   "source": [
    "### Sentencia `if`\n",
    "\n",
    "La sentencia `if` es la que nos permite evaluar condiciones booleanas y controlar el flujo de software,"
   ]
  },
  {
   "cell_type": "code",
   "execution_count": 38,
   "metadata": {},
   "outputs": [
    {
     "name": "stdout",
     "output_type": "stream",
     "text": [
      "5 es mayor que 2\n"
     ]
    }
   ],
   "source": [
    "A=2\n",
    "if( 5 > A ):\n",
    "    print(\"5 es mayor que\",A)"
   ]
  },
  {
   "cell_type": "markdown",
   "metadata": {},
   "source": [
    "La sentencia permite añadir la instrucción `else` que se ocupa del caso excluyente del `if`"
   ]
  },
  {
   "cell_type": "code",
   "execution_count": 39,
   "metadata": {},
   "outputs": [
    {
     "name": "stdout",
     "output_type": "stream",
     "text": [
      "5 es mayor que 2\n",
      "Hey\n"
     ]
    }
   ],
   "source": [
    "A=2\n",
    "if( 5 > A ):\n",
    "    print(\"5 es mayor que\",A)\n",
    "    print(\"Hey\")\n",
    "else:\n",
    "    print(\"5 es menor que\",A)"
   ]
  },
  {
   "cell_type": "markdown",
   "metadata": {},
   "source": [
    "Se pueden anidar sentencias `if` que añadan condiciones adicionales mediante la instrucción `elif` (de `else if`).   \n",
    "Por ejemplo, considere lo que pasaría según los distintos valores de la variable `A`"
   ]
  },
  {
   "cell_type": "code",
   "execution_count": 40,
   "metadata": {},
   "outputs": [
    {
     "name": "stdout",
     "output_type": "stream",
     "text": [
      "5 es igual 5\n"
     ]
    }
   ],
   "source": [
    "A=5\n",
    "if( 5 > A ):\n",
    "    print(\"5 es mayor que\",A)\n",
    "elif( 5 == A):\n",
    "    print(\"5 es igual\",A)\n",
    "else:\n",
    "    print(\"5 es menor que\",A)"
   ]
  },
  {
   "cell_type": "code",
   "execution_count": 41,
   "metadata": {},
   "outputs": [
    {
     "name": "stdout",
     "output_type": "stream",
     "text": [
      "Que desea saber? Petición extraña\n",
      "No entiendo tu petición\n"
     ]
    }
   ],
   "source": [
    "peticion=input(\"Que desea saber? \")\n",
    "if(peticion==\"Familia\"):\n",
    "    print(barranquero[\"Familia\"])\n",
    "elif(peticion==\"Orden\"):\n",
    "    print(barranquero[\"Orden\"])\n",
    "else:\n",
    "    print(\"No entiendo tu petición\")"
   ]
  },
  {
   "cell_type": "markdown",
   "metadata": {},
   "source": [
    "## Ciclos o Bucles\n",
    "\n",
    "Un ciclo es una porción de código que se ejecuta repetidamente, una y otra vez, un número de veces determinado.\n",
    "El ciclo se detiene cuando se satisface una condición de parada\n",
    "\n",
    "### Ciclo `for`\n",
    "\n",
    "Este ciclo es muy útil cuando se conoce de antemano la cantidad de veces que se necesita repetir\n",
    " una acción determinada dentro del programa. Para controlar el ciclo se pueden utlizar las diferentes secuencias vistas anteriormente"
   ]
  },
  {
   "cell_type": "code",
   "execution_count": 42,
   "metadata": {},
   "outputs": [
    {
     "name": "stdout",
     "output_type": "stream",
     "text": [
      "Este mensaje aparece por 1 vez\n",
      "Este mensaje aparece por 2 vez\n",
      "Este mensaje aparece por 3 vez\n",
      "Este mensaje aparece por 4 vez\n",
      "Este mensaje aparece por 5 vez\n"
     ]
    }
   ],
   "source": [
    "for x in range(1,6):\n",
    "    print(\"Este mensaje aparece por\",x,\"vez\")"
   ]
  },
  {
   "cell_type": "markdown",
   "metadata": {},
   "source": [
    "También se puede incluír un \"paso\" en el ciclo"
   ]
  },
  {
   "cell_type": "code",
   "execution_count": 43,
   "metadata": {},
   "outputs": [
    {
     "name": "stdout",
     "output_type": "stream",
     "text": [
      "1\n",
      "3\n",
      "5\n",
      "7\n",
      "9\n",
      "11\n",
      "13\n",
      "15\n",
      "17\n",
      "19\n"
     ]
    }
   ],
   "source": [
    "for x in range(1,20,2):\n",
    "    print(x)"
   ]
  },
  {
   "cell_type": "code",
   "execution_count": 44,
   "metadata": {},
   "outputs": [
    {
     "name": "stdout",
     "output_type": "stream",
     "text": [
      "1\n",
      "16\n",
      "49\n",
      "100\n",
      "169\n",
      "256\n",
      "361\n",
      "484\n",
      "625\n",
      "784\n"
     ]
    }
   ],
   "source": [
    "for x in range(1,30,3):\n",
    "    print(x**2)"
   ]
  },
  {
   "cell_type": "markdown",
   "metadata": {},
   "source": [
    "También es posible iterar a lo largo de los elementos de una lista,"
   ]
  },
  {
   "cell_type": "code",
   "execution_count": 45,
   "metadata": {},
   "outputs": [
    {
     "name": "stdout",
     "output_type": "stream",
     "text": [
      "perro\n",
      "gato\n",
      "elefante\n"
     ]
    }
   ],
   "source": [
    "lista=[1,2,3,4,5,6]\n",
    "animales=[\"perro\",\"gato\",\"elefante\"]\n",
    "for x in animales:\n",
    "    print(x)"
   ]
  },
  {
   "cell_type": "markdown",
   "metadata": {},
   "source": [
    "O a lo largo de los elementos de una cadena de caracteres,"
   ]
  },
  {
   "cell_type": "code",
   "execution_count": 46,
   "metadata": {},
   "outputs": [
    {
     "name": "stdout",
     "output_type": "stream",
     "text": [
      "A\n",
      "l\n",
      "i\n",
      "c\n",
      "i\n",
      "a\n",
      "\n",
      "\n",
      "¿\n",
      "E\n",
      "n\n",
      " \n",
      "q\n",
      "u\n",
      "é\n",
      " \n",
      "s\n",
      "e\n",
      " \n",
      "p\n",
      "a\n",
      "r\n",
      "e\n",
      "c\n",
      "e\n",
      "n\n",
      " \n",
      "u\n",
      "n\n",
      " \n",
      "c\n",
      "u\n",
      "e\n",
      "r\n",
      "v\n",
      "o\n",
      " \n",
      "y\n",
      " \n",
      "u\n",
      "n\n",
      " \n",
      "e\n",
      "s\n",
      "c\n",
      "r\n",
      "i\n",
      "t\n",
      "o\n",
      "r\n",
      "i\n",
      "o\n",
      "?\n"
     ]
    }
   ],
   "source": [
    "frase=\"Alicia\\n¿En qué se parecen un cuervo y un escritorio?\"\n",
    "for i in frase:\n",
    "    print(i)\n"
   ]
  },
  {
   "cell_type": "code",
   "execution_count": 47,
   "metadata": {},
   "outputs": [
    {
     "data": {
      "text/plain": [
       "'Alicia'"
      ]
     },
     "execution_count": 47,
     "metadata": {},
     "output_type": "execute_result"
    }
   ],
   "source": [
    "frase[0:6]"
   ]
  },
  {
   "cell_type": "markdown",
   "metadata": {},
   "source": [
    "Notemos que en este caso `i` contiene momentáneamente el i-ésimo caracter de la cadena `frase`.\n",
    "\n",
    "### Ciclo `while`\n",
    "\n",
    "El ciclo `while` se utiliza para ejecutar un conjunto de instrucciones repetidamente hasta que se\n",
    "cumpla cierta condición que nosotros inducimos.    \n",
    "\n",
    "Veamos cómo generar los puntos que describen la trayectoria de un movimiento parabólico con velocidad inicial\n",
    "de 20 m/s con un ángulo de tiro de 60 grados.\n",
    "\n",
    "Utilizaremos las ecuaciones de movimiento,\n",
    "\n",
    "$$x = x_{0} + v_{0}\\cos\\theta\\,t$$\n",
    "$$y = y_{0} + v_{0}\\sin\\theta\\, t - \\frac{1}{2}g\\,t^{2}$$\n"
   ]
  },
  {
   "cell_type": "code",
   "execution_count": 48,
   "metadata": {},
   "outputs": [
    {
     "name": "stdout",
     "output_type": "stream",
     "text": [
      "0.0 \t 0.0 \t 0.0\n",
      "0.2 \t 3.4641016151377544 \t 1.8040000000000003\n",
      "0.4 \t 10.392304845413264 \t 5.020000000000001\n",
      "0.6000000000000001 \t 20.784609690826528 \t 9.256000000000002\n",
      "0.8 \t 34.64101615137754 \t 14.120000000000003\n",
      "1.0 \t 51.96152422706631 \t 19.220000000000006\n",
      "1.2 \t 72.74613391789283 \t 24.164000000000005\n",
      "1.4 \t 96.99484522385711 \t 28.56000000000001\n",
      "1.5999999999999999 \t 124.70765814495914 \t 32.01600000000001\n",
      "1.7999999999999998 \t 155.88457268119893 \t 34.140000000000015\n",
      "1.9999999999999998 \t 190.52558883257646 \t 34.54000000000002\n",
      "2.1999999999999997 \t 228.63070659909175 \t 32.82400000000003\n",
      "2.4 \t 270.1999259807448 \t 28.600000000000026\n",
      "2.6 \t 315.2332469775356 \t 21.476000000000035\n",
      "2.8000000000000003 \t 363.7306695894642 \t 11.06000000000003\n"
     ]
    }
   ],
   "source": [
    "# Esto se conoce como la importación de un módulo\n",
    "# Aquí importamos el módulo math que contiene las operaciones matematicas de seno y coseno\n",
    "# las cuales vamos a utilizar para calcular las componentes vertical y horizontal de la velocidad\n",
    "# inicial\n",
    "import math\n",
    "\n",
    "t=0.0\n",
    "dt=0.2\n",
    "x=0.0\n",
    "y=0.0\n",
    "\n",
    "# Aquí tenemos \n",
    "vx=20*math.sin(math.radians(60))\n",
    "vy=20*math.cos(math.radians(60))\n",
    "\n",
    "while y>=0.0:\n",
    "    print(t,\"\\t\",x,\"\\t\",y)\n",
    "    t=t+dt\n",
    "    x=x+vx*t\n",
    "    y=y+vy*t-(9.8/2)*t**2"
   ]
  },
  {
   "cell_type": "markdown",
   "metadata": {},
   "source": [
    "## Funciones\n",
    "\n",
    "En programación es común que existan tareas que se realicen recurrentemente. Las funciones sirven para disminuir la complejidad\n",
    "del código, organizarlo mejor, además de facilitar su depuración. Al igual que las fuciones en matemáticas, las funciones en \n",
    "programación pueden recibir argumentos los cuales son procesados para retornar algún resultado. Por otro lado, las fuciones también\n",
    "pueden existir sin requerir argumentos y ejecutar un conjunto de ordenes sin necesidad de devolver resultado alguno.\n",
    "\n",
    "### Declaración de una función"
   ]
  },
  {
   "cell_type": "code",
   "execution_count": 49,
   "metadata": {},
   "outputs": [
    {
     "name": "stdout",
     "output_type": "stream",
     "text": [
      "6\n"
     ]
    }
   ],
   "source": [
    "def producto(argumento1,argumento2):\n",
    "    return argumento1*argumento2\n",
    "\n",
    "print(producto(2,3))"
   ]
  },
  {
   "cell_type": "code",
   "execution_count": 50,
   "metadata": {
    "collapsed": true
   },
   "outputs": [],
   "source": [
    "def busqueda(diccionario,peticion):\n",
    "    if(peticion==\"Familia\"):\n",
    "        print(diccionario[\"Familia\"])\n",
    "    elif(peticion==\"Orden\"):\n",
    "        print(diccionario[\"Orden\"])\n",
    "    else:\n",
    "        print(\"No entiendo tu petición\")"
   ]
  },
  {
   "cell_type": "code",
   "execution_count": 51,
   "metadata": {},
   "outputs": [
    {
     "name": "stdout",
     "output_type": "stream",
     "text": [
      "Que desea saber? Clase\n",
      "No entiendo tu petición\n"
     ]
    }
   ],
   "source": [
    "peticion=input(\"Que desea saber? \")\n",
    "busqueda(barranquero,peticion)"
   ]
  },
  {
   "cell_type": "code",
   "execution_count": 52,
   "metadata": {},
   "outputs": [
    {
     "name": "stdout",
     "output_type": "stream",
     "text": [
      "Que desea saber? Orden\n",
      "Saurischia\n"
     ]
    }
   ],
   "source": [
    "peticion=input(\"Que desea saber? \")\n",
    "busqueda(velociraptor,peticion)"
   ]
  },
  {
   "cell_type": "code",
   "execution_count": 53,
   "metadata": {},
   "outputs": [
    {
     "name": "stdout",
     "output_type": "stream",
     "text": [
      "Coraciiformes\n",
      "Saurischia\n",
      "Saurischia\n",
      "Saurischia\n"
     ]
    }
   ],
   "source": [
    "animales=[barranquero,velociraptor]\n",
    "\n",
    "for animal in animales:\n",
    "    print(animal[\"Orden\"])\n",
    "    \n",
    "for x in animales:\n",
    "    busqueda(animal,\"Orden\") #función definida previamente"
   ]
  },
  {
   "cell_type": "markdown",
   "metadata": {},
   "source": [
    "También puedo tener argumentos que no retornen resultado alguno"
   ]
  },
  {
   "cell_type": "code",
   "execution_count": 54,
   "metadata": {},
   "outputs": [
    {
     "name": "stdout",
     "output_type": "stream",
     "text": [
      "Hola clase\n"
     ]
    }
   ],
   "source": [
    "def mensaje():\n",
    "    print(\"Hola clase\")\n",
    "\n",
    "mensaje()"
   ]
  },
  {
   "cell_type": "code",
   "execution_count": 55,
   "metadata": {},
   "outputs": [],
   "source": [
    "def informacion(diccionario):\n",
    "    for i in diccionario.keys():\n",
    "        print(i,\"\\t\",diccionario[i])"
   ]
  },
  {
   "cell_type": "code",
   "execution_count": 56,
   "metadata": {},
   "outputs": [
    {
     "name": "stdout",
     "output_type": "stream",
     "text": [
      "Orden \t Saurischia\n",
      "Familia \t Dromaeosauridae\n",
      "Filo \t Chordata\n",
      "Clase \t Sauropsida\n",
      "Reino \t Animalia\n",
      "Género \t Velociraptor\n"
     ]
    }
   ],
   "source": [
    "informacion(velociraptor)"
   ]
  },
  {
   "cell_type": "markdown",
   "metadata": {},
   "source": [
    "# Módulos (o librerías)\n",
    "\n",
    "Los módulos o librerías son conjuntos de funciones que han sido creadas por grupos de programadores y que permiten ahorrar\n",
    "tiempo a la hora de programar.   \n",
    "Los módulos de interés para este curso son\n",
    "\n",
    " * math.   \n",
    "\n",
    " * numpy (Numerical Python).    \n",
    "\n",
    " * matplotlib (Mathematical Plot Library).  \n",
    "\n",
    "## Módulo math"
   ]
  },
  {
   "cell_type": "code",
   "execution_count": 57,
   "metadata": {},
   "outputs": [
    {
     "name": "stdout",
     "output_type": "stream",
     "text": [
      "math.fabs(-1)= 1.0\n",
      "math.ceil(3.67)= 4\n",
      "math.floor(3.37)= 3\n",
      "math.ceil(3.67)= 4\n",
      "math.floor(3.37)= 3\n",
      "math.factorial(4)= 24\n",
      "math.exp(1)= 2.718281828459045\n",
      "math.log(math.exp(1))= 1.0\n",
      "math.log(10)= 2.302585092994046\n",
      "math.log(10,10)= 1.0\n",
      "math.sqrt(2)= 1.4142135623730951\n",
      "math.degrees(3.141592)= 179.99996255206332\n",
      "math.radians(2*math.pi)= 0.1096622711232151\n",
      "math.cos(1)= 0.5403023058681398\n",
      "math.sin(1)= 0.8414709848078965\n",
      "math.tan(1)= 1.5574077246549023\n",
      "math.acos(1)= 0.0\n",
      "math.asin(1)= 1.5707963267948966\n",
      "math.atan(1)= 0.7853981633974483\n"
     ]
    }
   ],
   "source": [
    "import math\n",
    "\n",
    "print(\"math.fabs(-1)=\",math.fabs(-1))\n",
    "print(\"math.ceil(3.67)=\",math.ceil(3.67))\n",
    "print(\"math.floor(3.37)=\",math.floor(3.37))\n",
    "print(\"math.ceil(3.67)=\",math.ceil(3.67))\n",
    "print(\"math.floor(3.37)=\",math.floor(3.37))\n",
    "print(\"math.factorial(4)=\",math.factorial(4))\n",
    "print(\"math.exp(1)=\",math.exp(1))\n",
    "print(\"math.log(math.exp(1))=\",math.log(math.exp(1)))\n",
    "print(\"math.log(10)=\",math.log(10))\n",
    "print(\"math.log(10,10)=\",math.log(10,10))\n",
    "print(\"math.sqrt(2)=\",math.sqrt(2))\n",
    "print(\"math.degrees(3.141592)=\",math.degrees(3.141592))\n",
    "print(\"math.radians(2*math.pi)=\",math.radians(2*math.pi))\n",
    "print(\"math.cos(1)=\",math.cos(1))\n",
    "print(\"math.sin(1)=\",math.sin(1))\n",
    "print(\"math.tan(1)=\",math.tan(1))\n",
    "print(\"math.acos(1)=\",math.acos(1))\n",
    "print(\"math.asin(1)=\",math.asin(1))\n",
    "print(\"math.atan(1)=\",math.atan(1))"
   ]
  },
  {
   "cell_type": "markdown",
   "metadata": {},
   "source": [
    "# Numpy\n",
    "<div id=\"ch:intro-numpy\"></div>"
   ]
  },
  {
   "cell_type": "code",
   "execution_count": 58,
   "metadata": {},
   "outputs": [
    {
     "name": "stdout",
     "output_type": "stream",
     "text": [
      "[[ 0  1  2  3  4]\n",
      " [ 5  6  7  8  9]\n",
      " [10 11 12 13 14]]\n"
     ]
    },
    {
     "data": {
      "text/plain": [
       "2"
      ]
     },
     "execution_count": 58,
     "metadata": {},
     "output_type": "execute_result"
    }
   ],
   "source": [
    "import numpy as np\n",
    "\n",
    "a = np.arange(15).reshape(3, 5)\n",
    "print(a)\n",
    "a = np.array([[ 0,  1,  2,  3,  4],[ 5,  6,  7,  8,  9],[10, 11, 12, 13, 14]])\n",
    "a.shape\n",
    "a.ndim"
   ]
  },
  {
   "cell_type": "code",
   "execution_count": 59,
   "metadata": {},
   "outputs": [
    {
     "data": {
      "text/plain": [
       "array([[ 0.,  0.,  0.,  0.],\n",
       "       [ 0.,  0.,  0.,  0.],\n",
       "       [ 0.,  0.,  0.,  0.]])"
      ]
     },
     "execution_count": 59,
     "metadata": {},
     "output_type": "execute_result"
    }
   ],
   "source": [
    "np.zeros( (3,4) )"
   ]
  },
  {
   "cell_type": "code",
   "execution_count": 60,
   "metadata": {},
   "outputs": [
    {
     "data": {
      "text/plain": [
       "array([[ 1.,  1.,  1.,  1.],\n",
       "       [ 1.,  1.,  1.,  1.],\n",
       "       [ 1.,  1.,  1.,  1.]])"
      ]
     },
     "execution_count": 60,
     "metadata": {},
     "output_type": "execute_result"
    }
   ],
   "source": [
    "np.ones( (3,4) )"
   ]
  },
  {
   "cell_type": "code",
   "execution_count": 61,
   "metadata": {},
   "outputs": [
    {
     "data": {
      "text/plain": [
       "array([10, 15, 20, 25])"
      ]
     },
     "execution_count": 61,
     "metadata": {},
     "output_type": "execute_result"
    }
   ],
   "source": [
    "np.arange( 10, 30, 5 )"
   ]
  },
  {
   "cell_type": "code",
   "execution_count": 62,
   "metadata": {},
   "outputs": [],
   "source": [
    "random = np.random.random((2,3))"
   ]
  },
  {
   "cell_type": "markdown",
   "metadata": {},
   "source": [
    "# Matplotlib\n",
    "<div id=\"ch:intro-matplotlib\"></div>"
   ]
  },
  {
   "cell_type": "code",
   "execution_count": 63,
   "metadata": {},
   "outputs": [
    {
     "data": {
      "image/png": "[encoded data removed]",
      "text/plain": [
       "<matplotlib.figure.Figure at 0x7fbc63e1c358>"
      ]
     },
     "metadata": {},
     "output_type": "display_data"
    }
   ],
   "source": [
    "%matplotlib inline\n",
    "\n",
    "import math\n",
    "import matplotlib.pyplot as plt\n",
    "\n",
    "t=0.0\n",
    "dt=0.1\n",
    "\n",
    "# Posición inicial\n",
    "x=0.0\n",
    "y=0.0\n",
    "\n",
    "# Velocidad inicial\n",
    "vo=20\n",
    "\n",
    "# Listas vacías que almacenaran los puntos\n",
    "# x, y de las trayectorias\n",
    "puntos_x=[]\n",
    "puntos_y=[]\n",
    "\n",
    "# Aquí tenemos \n",
    "vx=vo*math.cos(math.radians(60))\n",
    "vy=vo*math.sin(math.radians(60))\n",
    "\n",
    "while y>=0.0:\n",
    "    # Añado las coordenadas a la lista\n",
    "    puntos_x.append(x)\n",
    "    puntos_y.append(y)\n",
    "    t=t+dt\n",
    "    x=x+vx*t\n",
    "    y=y+vy*t-(9.8/2)*t**2\n",
    "    \n",
    "plt.title(\"Movimiento Parabólico\")\n",
    "plt.xlabel(\"Posición horizontal(m)\")\n",
    "plt.ylabel(\"Altura (m)\")\n",
    "\n",
    "plt.plot(puntos_x,puntos_y)\n",
    "plt.show()"
   ]
  },
  {
   "cell_type": "code",
   "execution_count": 64,
   "metadata": {},
   "outputs": [
    {
     "data": {
      "image/png": "[encoded data removed]",
      "text/plain": [
       "<matplotlib.figure.Figure at 0x7fbc63da5d68>"
      ]
     },
     "metadata": {},
     "output_type": "display_data"
    }
   ],
   "source": [
    "%matplotlib inline\n",
    "\n",
    "import numpy as np\n",
    "import matplotlib.pyplot as plt\n",
    "\n",
    "def f(t):\n",
    "    return np.exp(-t) * np.cos(2*np.pi*t)\n",
    "\n",
    "t1 = np.arange(0.0, 5.0, 0.1)\n",
    "t2 = np.arange(0.0, 5.0, 0.02)\n",
    "\n",
    "plt.figure(1)\n",
    "plt.subplot(211)\n",
    "plt.plot(t1, f(t1), 'bo', t2, f(t2), 'k')\n",
    "\n",
    "plt.subplot(212)\n",
    "plt.plot(t2, np.cos(2*np.pi*t2), 'r--')\n",
    "plt.show()"
   ]
  },
  {
   "cell_type": "code",
   "execution_count": 65,
   "metadata": {},
   "outputs": [
    {
     "data": {
      "image/png": "[encoded data removed]",
      "text/plain": [
       "<matplotlib.figure.Figure at 0x7fbc704b44e0>"
      ]
     },
     "metadata": {},
     "output_type": "display_data"
    }
   ],
   "source": [
    "%matplotlib inline\n",
    "\n",
    "import numpy as np\n",
    "import matplotlib.pyplot as plt\n",
    "\n",
    "mu, sigma = 100, 15\n",
    "x = mu + sigma * np.random.randn(10000)\n",
    "\n",
    "# the histogram of the data\n",
    "n, bins, patches = plt.hist(x, 50, normed=1, facecolor='g', alpha=0.75)\n",
    "\n",
    "\n",
    "plt.xlabel('Smarts')\n",
    "plt.ylabel('Probability')\n",
    "plt.title('Histogram of IQ')\n",
    "plt.text(60, .025, r'$\\mu=100,\\ \\sigma=15$')\n",
    "plt.axis([40, 160, 0, 0.03])\n",
    "plt.grid(True)\n",
    "plt.show()"
   ]
  },
  {
   "cell_type": "code",
   "execution_count": 66,
   "metadata": {},
   "outputs": [
    {
     "data": {
      "image/png": "[encoded data removed]",
      "text/plain": [
       "<matplotlib.figure.Figure at 0x7fbc704b4198>"
      ]
     },
     "metadata": {},
     "output_type": "display_data"
    }
   ],
   "source": [
    "%matplotlib inline\n",
    "\n",
    "import numpy as np\n",
    "import matplotlib.pyplot as plt\n",
    "\n",
    "# make up some data in the interval ]0, 1[\n",
    "y = np.random.normal(loc=0.5, scale=0.4, size=1000)\n",
    "y = y[(y > 0) & (y < 1)]\n",
    "y.sort()\n",
    "x = np.arange(len(y))\n",
    "\n",
    "# plot with various axes scales\n",
    "plt.figure(1)\n",
    "\n",
    "# linear\n",
    "plt.subplot(221)\n",
    "plt.plot(x, y)\n",
    "plt.yscale('linear')\n",
    "plt.title('linear')\n",
    "plt.grid(True)\n",
    "\n",
    "\n",
    "# log\n",
    "plt.subplot(222)\n",
    "plt.plot(x, y)\n",
    "plt.yscale('log')\n",
    "plt.title('log')\n",
    "plt.grid(True)\n",
    "\n",
    "\n",
    "# symmetric log\n",
    "plt.subplot(223)\n",
    "plt.plot(x, y - y.mean())\n",
    "plt.yscale('symlog', linthreshy=0.05)\n",
    "plt.title('symlog')\n",
    "plt.grid(True)\n",
    "\n",
    "# logit\n",
    "plt.subplot(224)\n",
    "plt.plot(x, y)\n",
    "plt.yscale('logit')\n",
    "plt.title('logit')\n",
    "plt.grid(True)\n",
    "\n",
    "plt.show()"
   ]
  },
  {
   "cell_type": "markdown",
   "metadata": {
    "collapsed": true
   },
   "source": [
    "# Enlaces de interés y otros recursos\n",
    "\n",
    " * [Introducción a la Programación con Python (Español)](http://c3.itm.edu.co/wiki/tiki-index.php?page=Introduccion%20a%20la%20Programacion)   \n",
    "\n",
    " * [Documentación módulo math (Inglés)](https://docs.python.org/3/library/math.html)   \n",
    "\n",
    " * [Inicio rápido de Numpy (Inglés)](https://docs.scipy.org/doc/numpy-dev/user/quickstart.html#)   \n",
    "\n",
    " * [Documentación de referencia Numpy (Inglés)](https://docs.scipy.org/doc/numpy/reference/)   \n",
    "\n",
    " * [Ajuste de datos a curvas usando Numpy y Scipy (Inglés)](http://scipy-cookbook.readthedocs.org/items/FittingData.html)   \n",
    "\n",
    " * [Integración de ecuaciones diferenciales con Scipy (Inglés)](http://docs.scipy.org/doc/scipy-0.13.0/reference/generated/scipy.integrate.odeint.html#scipy.integrate.odeint)   "
   ]
  }
 ],
 "metadata": {
  "kernelspec": {
   "display_name": "Python 3",
   "language": "python",
   "name": "python3"
  },
  "language_info": {
   "codemirror_mode": {
    "name": "ipython",
    "version": 3
   },
   "file_extension": ".py",
   "mimetype": "text/x-python",
   "name": "python",
   "nbconvert_exporter": "python",
   "pygments_lexer": "ipython3",
   "version": "3.5.4"
  }
 },
 "nbformat": 4,
 "nbformat_minor": 1
}
