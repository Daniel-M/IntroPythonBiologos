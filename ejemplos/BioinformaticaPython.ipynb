{
 "cells": [
  {
   "cell_type": "markdown",
   "metadata": {},
   "source": [
    "# Aproximación a la Bioinformática con Python"
   ]
  },
  {
   "cell_type": "markdown",
   "metadata": {},
   "source": [
    "En este notebook se presenta la manipulación de cadenas de texto que corresponden a 60 bases nitrogenadas del genoma de la _Saccharomyces cerevisiae_ tomadas de la página https://www.ncbi.nlm.nih.gov/genbank/samplerecord/ como una motivación a la bioinformática."
   ]
  },
  {
   "cell_type": "code",
   "execution_count": 1,
   "metadata": {
    "collapsed": false
   },
   "outputs": [],
   "source": [
    "secuencia_A=\"gatcctccatatacaacggtatctccacctcaggtttagatctcaacaacggaaccattg\".upper()"
   ]
  },
  {
   "cell_type": "code",
   "execution_count": 2,
   "metadata": {
    "collapsed": false
   },
   "outputs": [],
   "source": [
    "secuencia_B=\"caggtttagatctcaacaacggaaccattggatcctccatatacaacggtatctccacct\".upper() # secuencia_A partida en mitades"
   ]
  },
  {
   "cell_type": "code",
   "execution_count": 3,
   "metadata": {
    "collapsed": true
   },
   "outputs": [],
   "source": [
    "secuencia_C=\"ccgacatgagacagttaggtatcgtcgagagttacaagctaaaacgagcagtagtcagct\".upper()"
   ]
  },
  {
   "cell_type": "code",
   "execution_count": 4,
   "metadata": {
    "collapsed": true
   },
   "outputs": [],
   "source": [
    "secuencia_D=\"tttactctcacatcctgtagtgattgacactgcaacagccaccatcactagaagaacaga\".upper()"
   ]
  },
  {
   "cell_type": "code",
   "execution_count": 5,
   "metadata": {
    "collapsed": false
   },
   "outputs": [
    {
     "data": {
      "text/plain": [
       "60"
      ]
     },
     "execution_count": 5,
     "metadata": {},
     "output_type": "execute_result"
    }
   ],
   "source": [
    "len(secuencia_A)"
   ]
  },
  {
   "cell_type": "code",
   "execution_count": 6,
   "metadata": {
    "collapsed": false
   },
   "outputs": [
    {
     "name": "stdout",
     "output_type": "stream",
     "text": [
      "18\n",
      "9\n",
      "18\n",
      "15\n"
     ]
    }
   ],
   "source": [
    "print(secuencia_A.count(\"A\"))\n",
    "print(secuencia_A.count(\"G\"))\n",
    "print(secuencia_A.count(\"C\"))\n",
    "print(secuencia_A.count(\"T\"))"
   ]
  },
  {
   "cell_type": "code",
   "execution_count": 7,
   "metadata": {
    "collapsed": false
   },
   "outputs": [
    {
     "name": "stdout",
     "output_type": "stream",
     "text": [
      "G\n",
      "A\n",
      "T\n",
      "C\n",
      "C\n",
      "T\n",
      "C\n",
      "C\n",
      "A\n",
      "T\n",
      "A\n",
      "T\n",
      "A\n",
      "C\n",
      "A\n",
      "A\n",
      "C\n",
      "G\n",
      "G\n",
      "T\n",
      "A\n",
      "T\n",
      "C\n",
      "T\n",
      "C\n",
      "C\n",
      "A\n",
      "C\n",
      "C\n",
      "T\n",
      "C\n",
      "A\n",
      "G\n",
      "G\n",
      "T\n",
      "T\n",
      "T\n",
      "A\n",
      "G\n",
      "A\n",
      "T\n",
      "C\n",
      "T\n",
      "C\n",
      "A\n",
      "A\n",
      "C\n",
      "A\n",
      "A\n",
      "C\n",
      "G\n",
      "G\n",
      "A\n",
      "A\n",
      "C\n",
      "C\n",
      "A\n",
      "T\n",
      "T\n",
      "G\n"
     ]
    }
   ],
   "source": [
    "for i in secuencia_A:\n",
    "    print(i)"
   ]
  },
  {
   "cell_type": "markdown",
   "metadata": {},
   "source": [
    "## Secuencias complementarias\n",
    "Construyamos una función que nos retorne la secuencia complementaria de otra secuencia. El argumento de esta función debe ser la secuencia original mientras que el valor de retorno es la secuencia complementaria deseada"
   ]
  },
  {
   "cell_type": "code",
   "execution_count": 9,
   "metadata": {
    "collapsed": true
   },
   "outputs": [],
   "source": [
    "def secuenciaComplementaria(secuencia_original):\n",
    "    secuencia_complementaria=\"\"\n",
    "    for i in secuencia_original:\n",
    "        if(i==\"A\"):\n",
    "            secuencia_complementaria+=\"T\"\n",
    "        if(i==\"T\"):\n",
    "            secuencia_complementaria+=\"A\"\n",
    "        if(i==\"C\"):\n",
    "            secuencia_complementaria+=\"G\"\n",
    "        if(i==\"G\"):\n",
    "            secuencia_complementaria+=\"C\"\n",
    "    return secuencia_complementaria"
   ]
  },
  {
   "cell_type": "markdown",
   "metadata": {},
   "source": [
    "Probemos que la función arroje un resultado correcto"
   ]
  },
  {
   "cell_type": "code",
   "execution_count": 10,
   "metadata": {
    "collapsed": false
   },
   "outputs": [
    {
     "name": "stdout",
     "output_type": "stream",
     "text": [
      "GATCCTCCATATACAACGGTATCTCCACCTCAGGTTTAGATCTCAACAACGGAACCATTG\n",
      "CTAGGAGGTATATGTTGCCATAGAGGTGGAGTCCAAATCTAGAGTTGTTGCCTTGGTAAC\n"
     ]
    }
   ],
   "source": [
    "print(secuencia_A)\n",
    "print(secuenciaComplementaria(secuencia_A))"
   ]
  },
  {
   "cell_type": "markdown",
   "metadata": {},
   "source": [
    "## Obteniendo secuencia de RNA\n",
    "\n",
    "Podemos construir una función que nos retorne la transcripción de una secuencia de DNA dando como resultado una de RNA"
   ]
  },
  {
   "cell_type": "code",
   "execution_count": 11,
   "metadata": {
    "collapsed": false
   },
   "outputs": [],
   "source": [
    "def secuenciaRNA(secuencia_original):\n",
    "    secuencia_rna=\"\"\n",
    "    for i in secuencia_original:\n",
    "        if(i==\"T\"):\n",
    "            secuencia_rna+=\"U\"\n",
    "        else:\n",
    "            secuencia_rna+=i\n",
    "    return secuencia_rna"
   ]
  },
  {
   "cell_type": "markdown",
   "metadata": {},
   "source": [
    "Probemos nuestra función"
   ]
  },
  {
   "cell_type": "code",
   "execution_count": 12,
   "metadata": {
    "collapsed": false
   },
   "outputs": [
    {
     "name": "stdout",
     "output_type": "stream",
     "text": [
      "GAUCCUCCAUAUACAACGGUAUCUCCACCUCAGGUUUAGAUCUCAACAACGGAACCAUUG\n",
      "CUAGGAGGUAUAUGUUGCCAUAGAGGUGGAGUCCAAAUCUAGAGUUGUUGCCUUGGUAAC\n"
     ]
    }
   ],
   "source": [
    "print(secuencia_A))\n",
    "print(secuenciaRNA(secuenciaComplementaria(secuencia_A)))"
   ]
  },
  {
   "cell_type": "markdown",
   "metadata": {},
   "source": [
    "## Manipulando secuencias\n",
    "\n",
    "Comparemos si dos secuencias son iguales"
   ]
  },
  {
   "cell_type": "code",
   "execution_count": 13,
   "metadata": {
    "collapsed": false
   },
   "outputs": [
    {
     "name": "stdout",
     "output_type": "stream",
     "text": [
      "Son secuencias diferentes\n"
     ]
    }
   ],
   "source": [
    "if(secuencia_A==secuencia_B):\n",
    "    print(\"Son secuencias iguales\")\n",
    "else:\n",
    "    print(\"Son secuencias diferentes\")"
   ]
  },
  {
   "cell_type": "markdown",
   "metadata": {},
   "source": [
    "Como ejercicio de programación, comprobemos que tanta información comparten dos secuencias en términos de cuantas A-G-T-C comparten entre sí."
   ]
  },
  {
   "cell_type": "code",
   "execution_count": 175,
   "metadata": {
    "collapsed": false
   },
   "outputs": [
    {
     "data": {
      "text/plain": [
       "'AAAAAAAAAAAAAAAAAACCCCCCCCCCCCCCCCCCGGGGGGGGGTTTTTTTTTTTTTTT'"
      ]
     },
     "execution_count": 175,
     "metadata": {},
     "output_type": "execute_result"
    }
   ],
   "source": [
    "''.join(sorted(secuencia_A)) # Este método permite ordenar una secuencia alfabéticamente"
   ]
  },
  {
   "cell_type": "markdown",
   "metadata": {},
   "source": [
    "Construímos una función que compara dos secuencias ordenadas y nos dice en cuanto se parecen una a la otra en términos de porcentaje"
   ]
  },
  {
   "cell_type": "code",
   "execution_count": 15,
   "metadata": {
    "collapsed": true
   },
   "outputs": [],
   "source": [
    "def secuenciaSimilaridad(secuencia_primera,secuencia_segunda):\n",
    "    porcentaje=0.0\n",
    "    sec_P_org=''.join(sorted(secuencia_primera))\n",
    "    sec_S_org=''.join(sorted(secuencia_segunda))\n",
    "    for i in range(0,len(secuencia_primera)):\n",
    "        if(sec_P_org[i]==sec_S_org[i]):\n",
    "            porcentaje+=1.0\n",
    "    return porcentaje/len(secuencia_primera) "
   ]
  },
  {
   "cell_type": "code",
   "execution_count": 16,
   "metadata": {
    "collapsed": false
   },
   "outputs": [
    {
     "data": {
      "text/plain": [
       "1.0"
      ]
     },
     "execution_count": 16,
     "metadata": {},
     "output_type": "execute_result"
    }
   ],
   "source": [
    "secuenciaSimilaridad(secuencia_A,secuencia_B)"
   ]
  },
  {
   "cell_type": "code",
   "execution_count": 55,
   "metadata": {
    "collapsed": false
   },
   "outputs": [
    {
     "data": {
      "text/plain": [
       "0.85"
      ]
     },
     "execution_count": 55,
     "metadata": {},
     "output_type": "execute_result"
    }
   ],
   "source": [
    "secuenciaSimilaridad(secuencia_A,secuencia_C)"
   ]
  },
  {
   "cell_type": "code",
   "execution_count": 187,
   "metadata": {
    "collapsed": false
   },
   "outputs": [
    {
     "data": {
      "text/plain": [
       "0.9333333333333333"
      ]
     },
     "execution_count": 187,
     "metadata": {},
     "output_type": "execute_result"
    }
   ],
   "source": [
    "secuenciaSimilaridad(secuencia_A,secuencia_D)"
   ]
  },
  {
   "cell_type": "code",
   "execution_count": 188,
   "metadata": {
    "collapsed": false
   },
   "outputs": [
    {
     "data": {
      "text/plain": [
       "0.8833333333333333"
      ]
     },
     "execution_count": 188,
     "metadata": {},
     "output_type": "execute_result"
    }
   ],
   "source": [
    "secuenciaSimilaridad(secuencia_C,secuencia_D)"
   ]
  },
  {
   "cell_type": "code",
   "execution_count": 186,
   "metadata": {
    "collapsed": false
   },
   "outputs": [
    {
     "data": {
      "text/plain": [
       "1.0"
      ]
     },
     "execution_count": 186,
     "metadata": {},
     "output_type": "execute_result"
    }
   ],
   "source": [
    "secuenciaSimilaridad(secuencia_D,secuencia_D)"
   ]
  },
  {
   "cell_type": "markdown",
   "metadata": {},
   "source": [
    "## Búsqueda de patrones en DNA\n",
    "Se crea una función para buscar un patrón dentro de una cadena de texto. En este caso la cadena de texto consiste en una secuencia de ADN y el patrón es una secuencia de menor tamaño."
   ]
  },
  {
   "cell_type": "code",
   "execution_count": 18,
   "metadata": {
    "collapsed": false
   },
   "outputs": [],
   "source": [
    "def secuenciaPatron(secuencia_original,secuencia_patron):\n",
    "    status=0\n",
    "    lugares=list()\n",
    "    for i in range(0,len(secuencia_original)):\n",
    "        for j in range(0,len(secuencia_patron)):\n",
    "            if(i+j<len(secuencia_original)):\n",
    "                if(secuencia_original[i+j]==secuencia_patron[j]):\n",
    "                    status+=1\n",
    "                    #print(i+j,j,status)\n",
    "                else:\n",
    "                    status=0\n",
    "                    break\n",
    "            if(status==len(secuencia_patron)):\n",
    "                lugares.append(i)\n",
    "    return lugares"
   ]
  },
  {
   "cell_type": "code",
   "execution_count": 19,
   "metadata": {
    "collapsed": false
   },
   "outputs": [
    {
     "data": {
      "text/plain": [
       "[13, 43, 46]"
      ]
     },
     "execution_count": 19,
     "metadata": {},
     "output_type": "execute_result"
    }
   ],
   "source": [
    "secuenciaPatron(secuencia_A,\"CAAC\")"
   ]
  },
  {
   "cell_type": "code",
   "execution_count": 20,
   "metadata": {
    "collapsed": false
   },
   "outputs": [
    {
     "data": {
      "text/plain": [
       "[13, 16, 43]"
      ]
     },
     "execution_count": 20,
     "metadata": {},
     "output_type": "execute_result"
    }
   ],
   "source": [
    "secuenciaPatron(secuencia_B,\"CAAC\")"
   ]
  },
  {
   "cell_type": "code",
   "execution_count": 21,
   "metadata": {
    "collapsed": false
   },
   "outputs": [
    {
     "data": {
      "text/plain": [
       "[]"
      ]
     },
     "execution_count": 21,
     "metadata": {},
     "output_type": "execute_result"
    }
   ],
   "source": [
    "secuenciaPatron(secuencia_C,\"CAAC\")"
   ]
  },
  {
   "cell_type": "code",
   "execution_count": 191,
   "metadata": {
    "collapsed": false
   },
   "outputs": [
    {
     "data": {
      "text/plain": [
       "[32]"
      ]
     },
     "execution_count": 191,
     "metadata": {},
     "output_type": "execute_result"
    }
   ],
   "source": [
    "secuenciaPatron(secuencia_D,\"CAAC\")"
   ]
  }
 ],
 "metadata": {
  "kernelspec": {
   "display_name": "Python 3",
   "language": "python",
   "name": "python3"
  },
  "language_info": {
   "codemirror_mode": {
    "name": "ipython",
    "version": 3
   },
   "file_extension": ".py",
   "mimetype": "text/x-python",
   "name": "python",
   "nbconvert_exporter": "python",
   "pygments_lexer": "ipython3",
   "version": "3.5.1+"
  }
 },
 "nbformat": 4,
 "nbformat_minor": 0
}
